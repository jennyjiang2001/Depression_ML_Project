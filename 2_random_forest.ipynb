{
 "cells": [
  {
   "cell_type": "code",
   "execution_count": 1,
   "id": "41633690",
   "metadata": {},
   "outputs": [],
   "source": [
    "import pandas as pd\n",
    "import numpy as np\n",
    "from sklearn.ensemble import RandomForestRegressor\n",
    "from sklearn.metrics import mean_squared_error\n",
    "from sklearn.model_selection import GridSearchCV"
   ]
  },
  {
   "cell_type": "code",
   "execution_count": 2,
   "id": "5f3b9716",
   "metadata": {},
   "outputs": [],
   "source": [
    "input_train = pd.read_csv(\"Training_Validation_Test_Datasets/task2_input_train.csv\", index_col=0)\n",
    "input_validate = pd.read_csv(\"Training_Validation_Test_Datasets/task2_input_validate.csv\", index_col=0)\n",
    "input_test = pd.read_csv(\"Training_Validation_Test_Datasets/task2_input_test.csv\", index_col=0)\n",
    "\n",
    "output_train = pd.read_csv(\"Training_Validation_Test_Datasets/task2_output_train.csv\")[\"phq_sum\"]\n",
    "output_validate = pd.read_csv(\"Training_Validation_Test_Datasets/task2_output_validate.csv\")[\"phq_sum\"]\n",
    "output_test = pd.read_csv(\"Training_Validation_Test_Datasets/task2_output_test.csv\")[\"phq_sum\"]"
   ]
  },
  {
   "cell_type": "code",
   "execution_count": 3,
   "id": "bb11b850",
   "metadata": {},
   "outputs": [
    {
     "data": {
      "text/plain": [
       "(3311, 50)"
      ]
     },
     "execution_count": 3,
     "metadata": {},
     "output_type": "execute_result"
    }
   ],
   "source": [
    "input_train.shape"
   ]
  },
  {
   "cell_type": "code",
   "execution_count": 4,
   "id": "f9cfe26d",
   "metadata": {},
   "outputs": [
    {
     "data": {
      "text/plain": [
       "(3311,)"
      ]
     },
     "execution_count": 4,
     "metadata": {},
     "output_type": "execute_result"
    }
   ],
   "source": [
    "output_train.shape"
   ]
  },
  {
   "cell_type": "code",
   "execution_count": 5,
   "id": "702d2503",
   "metadata": {},
   "outputs": [],
   "source": [
    "param_grid = {\n",
    "        \"n_estimators\": [50, 100, 150, 200, 250],\n",
    "        \"max_depth\": [5, 10, 15, 20, None]\n",
    "    }"
   ]
  },
  {
   "cell_type": "code",
   "execution_count": 6,
   "id": "a0c4d5dc",
   "metadata": {},
   "outputs": [
    {
     "name": "stderr",
     "output_type": "stream",
     "text": [
      "/tmp/ipykernel_676/517241919.py:11: FutureWarning: The behavior of DataFrame concatenation with empty or all-NA entries is deprecated. In a future version, this will no longer exclude empty or all-NA columns when determining the result dtypes. To retain the old behavior, exclude the relevant entries before the concat operation.\n",
      "  param_results = pd.concat([\n"
     ]
    },
    {
     "name": "stdout",
     "output_type": "stream",
     "text": [
      "Parameter Tuning Results (Validation Set):\n",
      "   n_estimators max_depth        MSE\n",
      "0            50         5  16.336887\n",
      "1            50        10  15.863479\n",
      "2            50        15  15.856625\n",
      "3            50        20  16.115440\n",
      "4            50      None  16.094251\n",
      "5           100         5  16.313132\n",
      "6           100        10  15.983115\n",
      "7           100        15  16.003921\n",
      "8           100        20  16.261933\n",
      "9           100      None  16.227712\n",
      "10          150         5  16.284889\n",
      "11          150        10  15.935469\n",
      "12          150        15  15.982553\n",
      "13          150        20  16.119607\n",
      "14          150      None  16.166715\n",
      "15          200         5  16.268608\n",
      "16          200        10  15.923110\n",
      "17          200        15  15.932556\n",
      "18          200        20  16.093292\n",
      "19          200      None  16.129710\n",
      "20          250         5  16.297467\n",
      "21          250        10  15.953453\n",
      "22          250        15  15.981728\n",
      "23          250        20  16.090233\n",
      "24          250      None  16.117916\n",
      "\n",
      "Best Hyperparameters:\n",
      "{'n_estimators': 50, 'max_depth': 15}\n"
     ]
    }
   ],
   "source": [
    "param_results = pd.DataFrame(columns=[\"n_estimators\", \"max_depth\", \"MSE\"])\n",
    "\n",
    "for n_estimators in param_grid[\"n_estimators\"]:\n",
    "    for max_depth in param_grid[\"max_depth\"]:\n",
    "        rf_model = RandomForestRegressor(n_estimators=n_estimators, max_depth=max_depth, random_state=42)\n",
    "        rf_model.fit(input_train, output_train)\n",
    "        \n",
    "        y_validate_pred = rf_model.predict(input_validate)\n",
    "        mse = mean_squared_error(output_validate, y_validate_pred)\n",
    "        \n",
    "        param_results = pd.concat([\n",
    "            param_results,\n",
    "            pd.DataFrame({\n",
    "                \"n_estimators\": [n_estimators],\n",
    "                \"max_depth\": [max_depth],\n",
    "                \"MSE\": [mse]\n",
    "            })\n",
    "        ], ignore_index=True)\n",
    "\n",
    "best_params_row = param_results.loc[param_results[\"MSE\"].idxmin()]\n",
    "best_params = {\n",
    "    \"n_estimators\": int(best_params_row[\"n_estimators\"]),\n",
    "    \"max_depth\": best_params_row[\"max_depth\"] if not pd.isna(best_params_row[\"max_depth\"]) else None\n",
    "}\n",
    "\n",
    "print(\"Parameter Tuning Results (Validation Set):\")\n",
    "print(param_results)\n",
    "print(\"\\nBest Hyperparameters:\")\n",
    "print(best_params)"
   ]
  },
  {
   "cell_type": "code",
   "execution_count": 7,
   "id": "49a9edf4",
   "metadata": {},
   "outputs": [
    {
     "name": "stdout",
     "output_type": "stream",
     "text": [
      "\n",
      "Test Set Evaluation:\n",
      "MSE: 16.1051, RMSE: 4.0131\n"
     ]
    }
   ],
   "source": [
    "rf_best_model = RandomForestRegressor(n_estimators=best_params[\"n_estimators\"],\n",
    "                                      max_depth=best_params[\"max_depth\"],\n",
    "                                      random_state=42)\n",
    "\n",
    "rf_best_model.fit(input_train, output_train)\n",
    "y_test_pred = rf_best_model.predict(input_test)\n",
    "\n",
    "# Calculate metrics on test set\n",
    "mse_test = mean_squared_error(output_test, y_test_pred)\n",
    "rmse_test = mse_test**(1/2)\n",
    "\n",
    "print(\"\\nTest Set Evaluation:\")\n",
    "print(f\"MSE: {mse_test:.4f}, RMSE: {rmse_test:.4f}\")"
   ]
  },
  {
   "cell_type": "code",
   "execution_count": null,
   "id": "475e388f",
   "metadata": {},
   "outputs": [],
   "source": []
  }
 ],
 "metadata": {
  "kernelspec": {
   "display_name": "Python 3 (ipykernel)",
   "language": "python",
   "name": "python3"
  },
  "language_info": {
   "codemirror_mode": {
    "name": "ipython",
    "version": 3
   },
   "file_extension": ".py",
   "mimetype": "text/x-python",
   "name": "python",
   "nbconvert_exporter": "python",
   "pygments_lexer": "ipython3",
   "version": "3.11.6"
  }
 },
 "nbformat": 4,
 "nbformat_minor": 5
}
