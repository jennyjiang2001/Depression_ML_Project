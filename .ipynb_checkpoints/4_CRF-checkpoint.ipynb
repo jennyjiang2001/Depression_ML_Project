{
 "cells": [
  {
   "cell_type": "code",
   "execution_count": 2,
   "id": "bec4c599",
   "metadata": {
    "scrolled": false
   },
   "outputs": [
    {
     "name": "stdout",
     "output_type": "stream",
     "text": [
      "Collecting xgboost\n",
      "  Downloading xgboost-3.0.2-py3-none-manylinux_2_28_x86_64.whl.metadata (2.1 kB)\n",
      "Requirement already satisfied: numpy in /opt/conda/lib/python3.11/site-packages (from xgboost) (1.24.4)\n",
      "Collecting nvidia-nccl-cu12 (from xgboost)\n",
      "  Using cached nvidia_nccl_cu12-2.26.5-py3-none-manylinux2014_x86_64.manylinux_2_17_x86_64.whl.metadata (2.0 kB)\n",
      "Requirement already satisfied: scipy in /opt/conda/lib/python3.11/site-packages (from xgboost) (1.11.4)\n",
      "Downloading xgboost-3.0.2-py3-none-manylinux_2_28_x86_64.whl (253.9 MB)\n",
      "\u001b[2K   \u001b[90m━━━━━━━━━━━━━━━━━━━━━━━━━━━━━━━━━━━━━━━━\u001b[0m \u001b[32m253.9/253.9 MB\u001b[0m \u001b[31m84.8 MB/s\u001b[0m eta \u001b[36m0:00:00\u001b[0m00:01\u001b[0m00:01\u001b[0m\n",
      "\u001b[?25hUsing cached nvidia_nccl_cu12-2.26.5-py3-none-manylinux2014_x86_64.manylinux_2_17_x86_64.whl (318.1 MB)\n",
      "Installing collected packages: nvidia-nccl-cu12, xgboost\n",
      "Successfully installed nvidia-nccl-cu12-2.26.5 xgboost-3.0.2\n"
     ]
    }
   ],
   "source": [
    "!pip install xgboost"
   ]
  },
  {
   "cell_type": "code",
   "execution_count": 5,
   "id": "96fb268e",
   "metadata": {
    "scrolled": true
   },
   "outputs": [
    {
     "name": "stdout",
     "output_type": "stream",
     "text": [
      "Collecting sklearn-crfsuite\n",
      "  Downloading sklearn_crfsuite-0.5.0-py2.py3-none-any.whl.metadata (4.9 kB)\n",
      "Collecting python-crfsuite>=0.9.7 (from sklearn-crfsuite)\n",
      "  Downloading python_crfsuite-0.9.11-cp311-cp311-manylinux_2_17_x86_64.manylinux2014_x86_64.whl.metadata (4.3 kB)\n",
      "Requirement already satisfied: scikit-learn>=0.24.0 in /opt/conda/lib/python3.11/site-packages (from sklearn-crfsuite) (1.3.2)\n",
      "Collecting tabulate>=0.4.2 (from sklearn-crfsuite)\n",
      "  Using cached tabulate-0.9.0-py3-none-any.whl.metadata (34 kB)\n",
      "Requirement already satisfied: tqdm>=2.0 in /opt/conda/lib/python3.11/site-packages (from sklearn-crfsuite) (4.66.1)\n",
      "Requirement already satisfied: numpy<2.0,>=1.17.3 in /opt/conda/lib/python3.11/site-packages (from scikit-learn>=0.24.0->sklearn-crfsuite) (1.24.4)\n",
      "Requirement already satisfied: scipy>=1.5.0 in /opt/conda/lib/python3.11/site-packages (from scikit-learn>=0.24.0->sklearn-crfsuite) (1.11.4)\n",
      "Requirement already satisfied: joblib>=1.1.1 in /opt/conda/lib/python3.11/site-packages (from scikit-learn>=0.24.0->sklearn-crfsuite) (1.3.2)\n",
      "Requirement already satisfied: threadpoolctl>=2.0.0 in /opt/conda/lib/python3.11/site-packages (from scikit-learn>=0.24.0->sklearn-crfsuite) (3.2.0)\n",
      "Downloading sklearn_crfsuite-0.5.0-py2.py3-none-any.whl (10 kB)\n",
      "Downloading python_crfsuite-0.9.11-cp311-cp311-manylinux_2_17_x86_64.manylinux2014_x86_64.whl (1.3 MB)\n",
      "\u001b[2K   \u001b[90m━━━━━━━━━━━━━━━━━━━━━━━━━━━━━━━━━━━━━━━━\u001b[0m \u001b[32m1.3/1.3 MB\u001b[0m \u001b[31m6.5 MB/s\u001b[0m eta \u001b[36m0:00:00\u001b[0m\n",
      "\u001b[?25hUsing cached tabulate-0.9.0-py3-none-any.whl (35 kB)\n",
      "Installing collected packages: tabulate, python-crfsuite, sklearn-crfsuite\n",
      "Successfully installed python-crfsuite-0.9.11 sklearn-crfsuite-0.5.0 tabulate-0.9.0\n"
     ]
    }
   ],
   "source": [
    "!pip install sklearn-crfsuite"
   ]
  },
  {
   "cell_type": "code",
   "execution_count": 6,
   "id": "abf4d374",
   "metadata": {},
   "outputs": [],
   "source": [
    "import xgboost as xgb\n",
    "import pandas as pd\n",
    "from sklearn.metrics import mean_absolute_error\n",
    "from sklearn.model_selection import train_test_split\n",
    "import networkx as nx\n",
    "import matplotlib.pyplot as plt\n",
    "from sklearn_crfsuite import CRF"
   ]
  },
  {
   "cell_type": "code",
   "execution_count": 12,
   "id": "7e45eefe",
   "metadata": {},
   "outputs": [
    {
     "name": "stdout",
     "output_type": "stream",
     "text": [
      "Index(['Unnamed: 0', 'SEQN', 'com01', 'com02', 'com03', 'com07', 'com08',\n",
      "       'com09', 'com10', 'com13', 'com15', 'com16', 'demo01', 'demo02',\n",
      "       'demo03', 'demo05', 'demo06', 'demo07', 'demo08', 'demo10', 'demo11',\n",
      "       'demo12', 'func01', 'func02', 'func03', 'func04', 'func05', 'func06',\n",
      "       'func07', 'habit01', 'habit04', 'habit05', 'habit06', 'habit08',\n",
      "       'habit09', 'healthcare01', 'healthcare02', 'healthcare04', 'job01',\n",
      "       'job02', 'job04', 'lab04', 'lab06', 'lab08', 'lab10', 'lab11', 'lab12',\n",
      "       'lab14', 'physical01', 'physical02', 'physical03', 'physical04',\n",
      "       'physical05', 'physical06', 'target01', 'target02', 'target03',\n",
      "       'target04', 'target05', 'target06', 'target07', 'target08', 'target09'],\n",
      "      dtype='object')\n"
     ]
    }
   ],
   "source": [
    "dataset = pd.read_csv(\"final_merged_phq1_9.csv\")\n",
    "print(dataset.columns)"
   ]
  },
  {
   "cell_type": "code",
   "execution_count": 17,
   "id": "9754b74d",
   "metadata": {},
   "outputs": [],
   "source": [
    "X = dataset.drop(columns=[f\"target0{i}\" for i in range(1, 10)]) \n",
    "X = X.iloc[:, 2:]\n",
    "Y = dataset[[f\"target0{i}\" for i in range(1, 10)]]"
   ]
  },
  {
   "cell_type": "code",
   "execution_count": 21,
   "id": "d4776c46",
   "metadata": {},
   "outputs": [
    {
     "data": {
      "text/plain": [
       "(5519, 52)"
      ]
     },
     "execution_count": 21,
     "metadata": {},
     "output_type": "execute_result"
    }
   ],
   "source": [
    "X.shape"
   ]
  },
  {
   "cell_type": "code",
   "execution_count": 20,
   "id": "748e04f9",
   "metadata": {},
   "outputs": [],
   "source": [
    "X_train, X_test, Y_train, Y_test = train_test_split(X, Y, test_size=0.2, random_state=42)"
   ]
  },
  {
   "cell_type": "markdown",
   "id": "8846467e",
   "metadata": {},
   "source": [
    "**predict individual question using xgboost**"
   ]
  },
  {
   "cell_type": "code",
   "execution_count": 22,
   "id": "74628b29",
   "metadata": {},
   "outputs": [],
   "source": [
    "individual_pred = {}\n",
    "for target in range(1, 10):\n",
    "    target = \"target0\" + str(target)\n",
    "    \n",
    "    # Define and train the model\n",
    "    model = xgb.XGBRegressor(objective=\"reg:squarederror\", random_state=42)\n",
    "    model.fit(X_train, Y_train[target])\n",
    "        \n",
    "    individual_pred[target] = model.predict(X_test)   "
   ]
  },
  {
   "cell_type": "code",
   "execution_count": 23,
   "id": "95789b32",
   "metadata": {},
   "outputs": [
    {
     "name": "stdout",
     "output_type": "stream",
     "text": [
      "   target01  target02  target03  target04  target05  target06  target07  \\\n",
      "0  0.317716  0.480980  0.559162  0.135718  0.186693  0.639824  0.149314   \n",
      "1  0.108467  0.351591  0.848316  0.407308  0.401271  0.357579  0.079028   \n",
      "2  0.695894 -0.076630  1.910573  1.171484  2.057724  1.325833  0.004003   \n",
      "3  0.361322  0.082060  0.209148  0.698716  0.497622  0.424329  0.104090   \n",
      "4  0.679604  0.735004  1.433774  1.242154  0.667305  0.932744  0.831549   \n",
      "\n",
      "   target08  target09  \n",
      "0  0.213535  0.030997  \n",
      "1 -0.053105  0.058031  \n",
      "2  0.010430  0.048395  \n",
      "3  0.193871  0.006146  \n",
      "4  0.357596  0.031799  \n"
     ]
    }
   ],
   "source": [
    "# Combine predictions into a DataFrame\n",
    "individual_preds_df = pd.DataFrame(individual_pred)\n",
    "print(individual_preds_df.head())"
   ]
  },
  {
   "cell_type": "markdown",
   "id": "3685dd61",
   "metadata": {},
   "source": [
    "**CRF for structured output**"
   ]
  },
  {
   "cell_type": "code",
   "execution_count": 25,
   "id": "23870ebf",
   "metadata": {},
   "outputs": [],
   "source": [
    "# Convert each row into a sequence of features\n",
    "X_sequences = []\n",
    "\n",
    "for _, row in X.iterrows():\n",
    "    \n",
    "    # Create a sequence of 9 feature dictionaries for each instance\n",
    "    sequence = []\n",
    "    \n",
    "    for i in range(1, 10):  # 9 labels (target01 to target09)\n",
    "        feature_dict = {col: row[col] for col in X.columns}\n",
    "        sequence.append(feature_dict)\n",
    "    X_sequences.append(sequence)\n",
    "    \n",
    "    # Create Y_sequences (list of sequences of labels)\n",
    "    Y_sequences = Y.apply(lambda row: [str(int(value)) for value in row], axis=1).tolist()"
   ]
  },
  {
   "cell_type": "code",
   "execution_count": 28,
   "id": "1ec0506a",
   "metadata": {},
   "outputs": [
    {
     "name": "stdout",
     "output_type": "stream",
     "text": [
      "Number of feature sequences: 5519\n",
      "Number of label sequences: 5519\n"
     ]
    }
   ],
   "source": [
    "print(f\"Number of feature sequences: {len(X_sequences)}\")\n",
    "print(f\"Number of label sequences: {len(Y_sequences)}\")"
   ]
  },
  {
   "cell_type": "code",
   "execution_count": 29,
   "id": "2e45ae36",
   "metadata": {},
   "outputs": [],
   "source": [
    "crf = CRF(\n",
    "        algorithm='lbfgs',  # Optimization algorithm\n",
    "        max_iterations=100,  # Maximum number of iterations\n",
    "        all_possible_transitions=True  # Allow transitions between all labels\n",
    "    )"
   ]
  },
  {
   "cell_type": "code",
   "execution_count": 30,
   "id": "848852d0",
   "metadata": {},
   "outputs": [],
   "source": [
    "# Fit the CRF model\n",
    "crf.fit(X_sequences, Y_sequences)\n",
    "\n",
    "# Predict on new data\n",
    "structured_pred = crf.predict(X_sequences)"
   ]
  },
  {
   "cell_type": "markdown",
   "id": "59206646",
   "metadata": {},
   "source": [
    "**Accuracy Comparison**"
   ]
  },
  {
   "cell_type": "code",
   "execution_count": 31,
   "id": "eebd0b70",
   "metadata": {},
   "outputs": [
    {
     "name": "stdout",
     "output_type": "stream",
     "text": [
      "Average MAE across individual predictions: 0.5218\n"
     ]
    }
   ],
   "source": [
    "# Evaluate Individual Predictions\n",
    "individual_mae = {}\n",
    "\n",
    "for target in range(1, 10):\n",
    "    \n",
    "    target = f\"target0{target}\"\n",
    "    mae = mean_absolute_error(Y_test[target], individual_preds_df[target])\n",
    "    individual_mae[target] = mae\n",
    "\n",
    "average_mae = sum(individual_mae.values()) / len(individual_mae)\n",
    "print(f\"Average MAE across individual predictions: {average_mae:.4f}\")"
   ]
  },
  {
   "cell_type": "code",
   "execution_count": 32,
   "id": "5e0f9e77",
   "metadata": {},
   "outputs": [
    {
     "name": "stdout",
     "output_type": "stream",
     "text": [
      "Structured Prediction MAE: 0.45954379819210395\n"
     ]
    }
   ],
   "source": [
    "# Convert CRF predictions to DataFrame\n",
    "structured_preds_df = pd.DataFrame(structured_pred, columns=[f\"target0{i}\" for i in range(1, 10)])\n",
    "\n",
    "# Convert predictions and ground truth back to numerical format\n",
    "structured_preds_df = structured_preds_df.apply(pd.to_numeric)\n",
    "Y_numeric = Y.apply(pd.to_numeric)\n",
    "\n",
    "# Evaluate Structured Predictions\n",
    "structured_mae = mean_absolute_error(Y_numeric, structured_preds_df)\n",
    "\n",
    "print(\"Structured Prediction MAE:\", structured_mae)"
   ]
  },
  {
   "cell_type": "code",
   "execution_count": null,
   "id": "2ac76c32",
   "metadata": {},
   "outputs": [],
   "source": []
  }
 ],
 "metadata": {
  "kernelspec": {
   "display_name": "Python 3 (ipykernel)",
   "language": "python",
   "name": "python3"
  },
  "language_info": {
   "codemirror_mode": {
    "name": "ipython",
    "version": 3
   },
   "file_extension": ".py",
   "mimetype": "text/x-python",
   "name": "python",
   "nbconvert_exporter": "python",
   "pygments_lexer": "ipython3",
   "version": "3.11.6"
  }
 },
 "nbformat": 4,
 "nbformat_minor": 5
}
