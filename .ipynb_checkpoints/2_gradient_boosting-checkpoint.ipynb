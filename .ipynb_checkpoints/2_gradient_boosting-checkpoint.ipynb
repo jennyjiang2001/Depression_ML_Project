{
 "cells": [
  {
   "cell_type": "code",
   "execution_count": 1,
   "id": "63ad8409",
   "metadata": {},
   "outputs": [],
   "source": [
    "import pandas as pd\n",
    "import numpy as np\n",
    "from sklearn import ensemble\n",
    "from sklearn.metrics import mean_squared_error"
   ]
  },
  {
   "cell_type": "code",
   "execution_count": 2,
   "id": "3ab61035",
   "metadata": {},
   "outputs": [],
   "source": [
    "input_train = pd.read_csv(\"Training_Validation_Test_Datasets/task2_input_train.csv\", index_col=0)\n",
    "input_validate = pd.read_csv(\"Training_Validation_Test_Datasets/task2_input_validate.csv\", index_col=0)\n",
    "input_test = pd.read_csv(\"Training_Validation_Test_Datasets/task2_input_test.csv\", index_col=0)\n",
    "\n",
    "output_train = pd.read_csv(\"Training_Validation_Test_Datasets/task2_output_train.csv\")[\"phq_sum\"]\n",
    "output_validate = pd.read_csv(\"Training_Validation_Test_Datasets/task2_output_validate.csv\")[\"phq_sum\"]\n",
    "output_test = pd.read_csv(\"Training_Validation_Test_Datasets/task2_output_test.csv\")[\"phq_sum\"]"
   ]
  },
  {
   "cell_type": "code",
   "execution_count": 3,
   "id": "c00fe040",
   "metadata": {},
   "outputs": [],
   "source": [
    "lrs = [0.01, 0.05, 0.1, 0.2] # learning rate\n",
    "ns = [50, 100, 250, 500] # number of estimators\n",
    "depths = [4,6,8,12] # max depth\n",
    "min_samples = [100,250,500,1000,1500,2000] # min sample split"
   ]
  },
  {
   "cell_type": "code",
   "execution_count": 5,
   "id": "9837e71d",
   "metadata": {},
   "outputs": [],
   "source": [
    "results = []\n",
    "\n",
    "for lr in lrs:\n",
    "        for n in ns:\n",
    "            for depth in depths:\n",
    "                for min_sample in min_samples:\n",
    "                    params = {\n",
    "                        \"n_estimators\": n,\n",
    "                        \"max_depth\": depth,\n",
    "                        \"min_samples_split\": min_sample,\n",
    "                        \"learning_rate\": lr,\n",
    "                        \"loss\": \"squared_error\",\n",
    "                        \"random_state\": 42\n",
    "                    }\n",
    "\n",
    "                    reg = ensemble.GradientBoostingRegressor(**params)\n",
    "                    reg.fit(input_train, output_train)\n",
    "                    \n",
    "                    y_pred = reg.predict(input_validate)\n",
    "                    mse = round(mean_squared_error(output_validate, y_pred), 4)\n",
    "                    rmse = round(mse ** (1/2), 4)\n",
    "                    \n",
    "                    results.append({\n",
    "                        \"learning_rate\": lr,\n",
    "                        \"n_estimators\": n,\n",
    "                        \"max_depth\": depth,\n",
    "                        \"min_samples_split\": min_sample,\n",
    "                        \"MSE\": mse,\n",
    "                        \"RMSE\": rmse\n",
    "                    })"
   ]
  },
  {
   "cell_type": "code",
   "execution_count": 6,
   "id": "7cc24ea8",
   "metadata": {},
   "outputs": [
    {
     "name": "stdout",
     "output_type": "stream",
     "text": [
      "Parameter Tuning Results (Validation Set):\n",
      "     learning_rate  n_estimators  max_depth  min_samples_split      MSE  \\\n",
      "0             0.01            50          4                100  18.7339   \n",
      "1             0.01            50          4                250  18.7859   \n",
      "2             0.01            50          4                500  19.0297   \n",
      "3             0.01            50          4               1000  19.1341   \n",
      "4             0.01            50          4               1500  19.5830   \n",
      "..             ...           ...        ...                ...      ...   \n",
      "379           0.20           500         12                250  17.4499   \n",
      "380           0.20           500         12                500  18.0744   \n",
      "381           0.20           500         12               1000  18.7608   \n",
      "382           0.20           500         12               1500  18.2527   \n",
      "383           0.20           500         12               2000  16.8326   \n",
      "\n",
      "       RMSE  \n",
      "0    4.3283  \n",
      "1    4.3343  \n",
      "2    4.3623  \n",
      "3    4.3743  \n",
      "4    4.4253  \n",
      "..      ...  \n",
      "379  4.1773  \n",
      "380  4.2514  \n",
      "381  4.3314  \n",
      "382  4.2723  \n",
      "383  4.1028  \n",
      "\n",
      "[384 rows x 6 columns]\n",
      "\n",
      "Best Hyperparameters:\n",
      "{'learning_rate': 0.1, 'n_estimators': 50.0, 'max_depth': 4.0, 'min_samples_split': 1500.0}\n",
      "Best Validation RMSE: 3.8535\n"
     ]
    }
   ],
   "source": [
    "results_df = pd.DataFrame(results)\n",
    "\n",
    "print(\"Parameter Tuning Results (Validation Set):\")\n",
    "print(results_df)\n",
    "\n",
    "best_row = results_df.loc[results_df[\"RMSE\"].idxmin()]\n",
    "best_params = best_row[[\"learning_rate\", \"n_estimators\", \"max_depth\", \"min_samples_split\"]].to_dict()\n",
    "best_rmse = best_row[\"RMSE\"]\n",
    "\n",
    "print(\"\\nBest Hyperparameters:\")\n",
    "print(best_params)\n",
    "print(\"Best Validation RMSE:\", best_rmse)"
   ]
  }
 ],
 "metadata": {
  "kernelspec": {
   "display_name": "Python 3 (ipykernel)",
   "language": "python",
   "name": "python3"
  },
  "language_info": {
   "codemirror_mode": {
    "name": "ipython",
    "version": 3
   },
   "file_extension": ".py",
   "mimetype": "text/x-python",
   "name": "python",
   "nbconvert_exporter": "python",
   "pygments_lexer": "ipython3",
   "version": "3.11.6"
  }
 },
 "nbformat": 4,
 "nbformat_minor": 5
}
