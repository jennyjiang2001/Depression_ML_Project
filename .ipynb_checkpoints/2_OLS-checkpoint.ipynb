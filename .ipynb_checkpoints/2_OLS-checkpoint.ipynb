{
 "cells": [
  {
   "cell_type": "code",
   "execution_count": 1,
   "id": "d73f0d7b",
   "metadata": {},
   "outputs": [],
   "source": [
    "import matplotlib.pyplot as plt\n",
    "import numpy as np\n",
    "import pandas as pd\n",
    "from sklearn.model_selection import train_test_split\n",
    "import statsmodels.api as sm"
   ]
  },
  {
   "cell_type": "code",
   "execution_count": 2,
   "id": "76d1e5c3",
   "metadata": {},
   "outputs": [],
   "source": [
    "datasets = [\"Grouping_Datasets/Female_Older.csv\", \n",
    "            \"Grouping_Datasets/Female_Younger.csv\", \n",
    "            \"Grouping_Datasets/Male_Older.csv\", \n",
    "            \"Grouping_Datasets/Male_Younger.csv\"]\n",
    "\n",
    "all_significant_predictors = pd.DataFrame(columns=[\"Dataset\", \"Variable\", \"P-Value\", \n",
    "                                                   \"Coefficient\"])"
   ]
  },
  {
   "cell_type": "code",
   "execution_count": 3,
   "id": "33cfee11",
   "metadata": {},
   "outputs": [
    {
     "name": "stderr",
     "output_type": "stream",
     "text": [
      "/tmp/ipykernel_251/1592922608.py:24: FutureWarning: The behavior of DataFrame concatenation with empty or all-NA entries is deprecated. In a future version, this will no longer exclude empty or all-NA columns when determining the result dtypes. To retain the old behavior, exclude the relevant entries before the concat operation.\n",
      "  all_significant_predictors = pd.concat([all_significant_predictors, significant_data], ignore_index=True)\n"
     ]
    }
   ],
   "source": [
    "for dataset in datasets:\n",
    "    data = pd.read_csv(dataset, index_col=0)\n",
    "    \n",
    "    X = data.drop(columns=[\"phq_sum\"])\n",
    "    y = data[\"phq_sum\"]\n",
    "\n",
    "    X_train, X_test, y_train, y_test = train_test_split(X, y, test_size=0.3, \n",
    "                                                        random_state=42)\n",
    "    \n",
    "    # Perform OLS for p-value calculation\n",
    "    X_train_sm = sm.add_constant(X_train)  # Add constant term for intercept\n",
    "    y_train_aligned, X_train_sm_aligned = y_train.align(X_train_sm, join=\"inner\", axis=0)\n",
    "    sm_model = sm.OLS(y_train_aligned, X_train_sm_aligned).fit()\n",
    "\n",
    "    # Filter significant predictors (p-value < 0.05)\n",
    "    significant_vars = sm_model.pvalues[sm_model.pvalues < 0.05].index\n",
    "    if len(significant_vars) > 0:\n",
    "        significant_data = pd.DataFrame({\n",
    "            \"Dataset\": [dataset] * len(significant_vars),\n",
    "            \"Variable\": significant_vars,\n",
    "            \"P-Value\": sm_model.pvalues[significant_vars].round(4).values,\n",
    "            \"Coefficient\": sm_model.params[significant_vars].round(4).values\n",
    "        })\n",
    "        all_significant_predictors = pd.concat([all_significant_predictors, significant_data], ignore_index=True)"
   ]
  },
  {
   "cell_type": "code",
   "execution_count": 4,
   "id": "91c5b682",
   "metadata": {},
   "outputs": [
    {
     "name": "stdout",
     "output_type": "stream",
     "text": [
      "Top 5 Significant Predictors P-Value < 0.05 (Highest Absolute Coefficients):\n",
      "           Dataset     Variable  P-Value  Coefficient                          Meaning\n",
      "  Female_Older.csv healthcare04   0.0000       1.9621 healthcare_mentalhealth_provider\n",
      "  Female_Older.csv       func05   0.0000       1.6227           difficulty_remembering\n",
      "  Female_Older.csv       func06   0.0117       0.9795              difficulty_selfcare\n",
      "  Female_Older.csv       func04   0.0045       0.9139         difficulty_communicating\n",
      "  Female_Older.csv        com01   0.0000       0.8712                    health_status\n",
      "Female_Younger.csv       func05   0.0000       2.0487           difficulty_remembering\n",
      "Female_Younger.csv healthcare04   0.0000       1.6457 healthcare_mentalhealth_provider\n",
      "Female_Younger.csv       func02   0.0001       1.4131               difficulty_hearing\n",
      "Female_Younger.csv       func04   0.0313       0.8456         difficulty_communicating\n",
      "Female_Younger.csv      habit08   0.0046       0.8020                tried_lose_weight\n",
      "    Male_Older.csv healthcare04   0.0000       2.5251 healthcare_mentalhealth_provider\n",
      "    Male_Older.csv       func06   0.0000       2.1554              difficulty_selfcare\n",
      "    Male_Older.csv       func05   0.0000       1.3155           difficulty_remembering\n",
      "    Male_Older.csv       func04   0.0029       0.8950         difficulty_communicating\n",
      "    Male_Older.csv        com01   0.0000       0.7896                    health_status\n",
      "  Male_Younger.csv        com07   0.0122       4.0952                              CHF\n",
      "  Male_Younger.csv       func06   0.0004       2.3883              difficulty_selfcare\n",
      "  Male_Younger.csv healthcare04   0.0000       2.1307 healthcare_mentalhealth_provider\n",
      "  Male_Younger.csv        com10   0.0375       1.9299                             COPD\n",
      "  Male_Younger.csv       func05   0.0000       1.6742           difficulty_remembering\n"
     ]
    }
   ],
   "source": [
    "dictionary = pd.read_csv(\"dictionary.csv\")\n",
    "\n",
    "# Merge significant predictors with dictionary for meanings\n",
    "merged_data = all_significant_predictors.merge(\n",
    "    dictionary[['var_id', 'var_english']],\n",
    "    how='left',\n",
    "    left_on='Variable',\n",
    "    right_on='var_id'\n",
    ")\n",
    "\n",
    "merged_data = merged_data.rename(columns={\"var_english\": \"Meaning\"})\n",
    "merged_data = merged_data.drop(columns=[\"var_id\"])\n",
    "\n",
    "merged_data[\"Dataset\"] = merged_data[\"Dataset\"].str.replace(\"Grouping_Datasets/\", \"\", regex=False)\n",
    "\n",
    "# Select top 5 predictors with the highest absolute coefficients for each dataset\n",
    "top_predictors = merged_data.loc[\n",
    "    merged_data.groupby(\"Dataset\")[\"Coefficient\"]\n",
    "    .apply(lambda x: abs(x).nlargest(5).index)\n",
    "    .explode()\n",
    "]\n",
    "\n",
    "# Print the table\n",
    "print(\"Top 5 Significant Predictors P-Value < 0.05 (Highest Absolute Coefficients):\")\n",
    "print(top_predictors.to_string(index=False))"
   ]
  },
  {
   "cell_type": "code",
   "execution_count": null,
   "id": "ba4c4e41",
   "metadata": {},
   "outputs": [],
   "source": []
  }
 ],
 "metadata": {
  "kernelspec": {
   "display_name": "Python 3 (ipykernel)",
   "language": "python",
   "name": "python3"
  },
  "language_info": {
   "codemirror_mode": {
    "name": "ipython",
    "version": 3
   },
   "file_extension": ".py",
   "mimetype": "text/x-python",
   "name": "python",
   "nbconvert_exporter": "python",
   "pygments_lexer": "ipython3",
   "version": "3.11.6"
  }
 },
 "nbformat": 4,
 "nbformat_minor": 5
}
