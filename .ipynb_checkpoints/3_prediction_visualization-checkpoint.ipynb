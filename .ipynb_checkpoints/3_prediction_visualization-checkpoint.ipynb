{
 "cells": [
  {
   "cell_type": "code",
   "execution_count": null,
   "id": "f87bff8e",
   "metadata": {},
   "outputs": [],
   "source": [
    "!pip install xgboost"
   ]
  },
  {
   "cell_type": "code",
   "execution_count": 1,
   "id": "d8a9bb41",
   "metadata": {},
   "outputs": [],
   "source": [
    "import pandas as pd\n",
    "import numpy as np\n",
    "import matplotlib.pyplot as plt\n",
    "import seaborn as sns\n",
    "import xgboost as xgb\n",
    "from sklearn.model_selection import train_test_split\n",
    "from sklearn.ensemble import RandomForestRegressor\n",
    "from sklearn.ensemble import GradientBoostingRegressor\n",
    "from sklearn import ensemble\n",
    "from sklearn.metrics import (accuracy_score,\n",
    "                             mean_squared_error,\n",
    "                             precision_score, \n",
    "                             recall_score, \n",
    "                             f1_score, \n",
    "                             roc_curve, \n",
    "                             auc)"
   ]
  },
  {
   "cell_type": "code",
   "execution_count": null,
   "id": "9d7cc500",
   "metadata": {},
   "outputs": [],
   "source": [
    "from sklearn.inspection import permutation_importance\n",
    "from sklearn.utils.fixes import parse_version"
   ]
  },
  {
   "cell_type": "markdown",
   "id": "14b816e8",
   "metadata": {},
   "source": [
    "# Model Prediction"
   ]
  },
  {
   "cell_type": "code",
   "execution_count": null,
   "id": "433a860b",
   "metadata": {},
   "outputs": [],
   "source": [
    "input_train = pd.read_csv(\"Training_Validation_Test_Datasets/task2_input_train.csv\", index_col=0)\n",
    "input_validate = pd.read_csv(\"Training_Validation_Test_Datasets/task2_input_validate.csv\", index_col=0)\n",
    "input_test = pd.read_csv(\"Training_Validation_Test_Datasets/task2_input_test.csv\", index_col=0)\n",
    "\n",
    "output_train = pd.read_csv(\"Training_Validation_Test_Datasets/task2_output_train.csv\")[\"phq_sum\"]\n",
    "output_validate = pd.read_csv(\"Training_Validation_Test_Datasets/task2_output_validate.csv\")[\"phq_sum\"]\n",
    "output_test = pd.read_csv(\"Training_Validation_Test_Datasets/task2_output_test.csv\")[\"phq_sum\"]"
   ]
  },
  {
   "cell_type": "markdown",
   "id": "29f30f55",
   "metadata": {},
   "source": [
    "## 1. Gradient Boosting"
   ]
  },
  {
   "cell_type": "code",
   "execution_count": null,
   "id": "7c679717",
   "metadata": {},
   "outputs": [],
   "source": [
    "lr = 0.1\n",
    "n = 50\n",
    "depth = 4\n",
    "min_sample = 500\n",
    "\n",
    "params = {\"n_estimators\": n,\n",
    "          \"max_depth\": depth,\n",
    "          \"min_samples_split\": min_sample,\n",
    "          \"learning_rate\": lr,\n",
    "          \"loss\": \"squared_error\",\n",
    "          \"random_state\": 42}\n",
    "\n",
    "reg = GradientBoostingRegressor(**params)\n",
    "reg.fit(input_train, output_train.values)\n",
    "\n",
    "predictions = reg.predict(input_validate)\n",
    "mse = mean_squared_error(output_validate, predictions)\n",
    "mae = mean_absolute_error(output_validate, predictions)\n",
    "\n",
    "y_pred_gb = reg.predict(input_test)"
   ]
  },
  {
   "cell_type": "markdown",
   "id": "2d5671a3",
   "metadata": {},
   "source": [
    "## 2. XGBoost"
   ]
  },
  {
   "cell_type": "code",
   "execution_count": null,
   "id": "de9dc36b",
   "metadata": {},
   "outputs": [],
   "source": [
    "dtrain = xgb.DMatrix(input_train, label=output_train)\n",
    "dtest = xgb.DMatrix(input_test, label=output_test)\n",
    "\n",
    "params = {\n",
    "        \"objective\": \"reg:squarederror\",  \n",
    "        \"eval_metric\": \"rmse\",      \n",
    "        \"eta\": 0.06,                      \n",
    "        \"max_depth\": 3,      \n",
    "        \"subsample\": 0.6,       \n",
    "        \"colsample_bytree\": 0.2,\n",
    "    }\n",
    "\n",
    "evals = [(dtrain, \"train\")]\n",
    "model = xgb.train(params, dtrain, num_boost_round=500, \n",
    "                  evals=evals, early_stopping_rounds=50, verbose_eval=100)\n",
    "\n",
    "y_pred_xgb = model.predict(dtest)"
   ]
  },
  {
   "cell_type": "markdown",
   "id": "26b52175",
   "metadata": {},
   "source": [
    "## 3. Random Forest"
   ]
  },
  {
   "cell_type": "code",
   "execution_count": null,
   "id": "af707064",
   "metadata": {},
   "outputs": [],
   "source": [
    "param_grid = {\n",
    "    \"n_estimators\": 50,\n",
    "    \"max_depth\": 10}\n",
    "\n",
    "rf_best_model = RandomForestRegressor(\n",
    "    n_estimators=param_grid[\"n_estimators\"],\n",
    "    max_depth=param_grid[\"max_depth\"],\n",
    "    random_state=42)\n",
    "\n",
    "rf_best_model.fit(input_train, output_train)\n",
    "y_pred_rf = rf_best_model.predict(input_test)"
   ]
  },
  {
   "cell_type": "markdown",
   "id": "de746255",
   "metadata": {},
   "source": [
    "## 4. Neural Networks"
   ]
  },
  {
   "cell_type": "code",
   "execution_count": null,
   "id": "9f7a457e",
   "metadata": {},
   "outputs": [],
   "source": []
  },
  {
   "cell_type": "markdown",
   "id": "d80a9bdf",
   "metadata": {},
   "source": [
    "# Binary Task"
   ]
  },
  {
   "cell_type": "code",
   "execution_count": null,
   "id": "6e1a94ed",
   "metadata": {},
   "outputs": [],
   "source": [
    "# Binary task for random forest\n",
    "\n",
    "PHQ_CUTOFF = 10  # Set your cutoff threshold\n",
    "\n",
    "# Ensure y_test and y_pred_rf are NumPy arrays\n",
    "y_test = np.array(output_test).ravel()  # Assuming output_test is your test labels\n",
    "y_pred_rf = np.array(y_pred_rf)\n",
    "\n",
    "# Convert predictions and true labels to binary\n",
    "y_test_binary = np.where(y_test >= PHQ_CUTOFF, 1, 0)\n",
    "y_pred_binary = np.where(y_pred_rf >= PHQ_CUTOFF, 1, 0)\n",
    "\n",
    "# Calculate AUROC and accuracy\n",
    "fpr, tpr, _ = roc_curve(y_test_binary, y_pred_rf)\n",
    "roc_auc = auc(fpr, tpr)\n",
    "\n",
    "accuracy = accuracy_score(y_test_binary, y_pred_binary)\n",
    "\n",
    "print(f\"AUROC: {roc_auc:.6f}\")\n",
    "print(f\"Accuracy: {accuracy:.6f}\")\n",
    "\n",
    "# Plot AUROC\n",
    "plt.figure(figsize=(10, 8))\n",
    "plt.plot(fpr, tpr, label=f\"Random Forest (AUROC = {roc_auc:.6f})\")\n",
    "plt.plot([0, 1], [0, 1], color=\"gray\", linestyle=\"--\", label=\"Random Guess\")\n",
    "plt.xlabel(\"False Positive Rate\")\n",
    "plt.ylabel(\"True Positive Rate\")\n",
    "plt.title(\"AUROC Curve for Random Forest\")\n",
    "plt.legend(loc=\"lower right\")\n",
    "plt.grid(alpha=0.4)\n",
    "plt.show()\n",
    "\n",
    "# Print accuracy\n",
    "print(f\"Accuracy: {accuracy:.6f}\")"
   ]
  },
  {
   "cell_type": "code",
   "execution_count": null,
   "id": "3b1029c6",
   "metadata": {},
   "outputs": [],
   "source": [
    "# Binary task for xgboost\n",
    "\n",
    "PHQ_CUTOFF = 10  \n",
    "\n",
    "output_test = np.array(output_test)\n",
    "y_pred_xgb = np.array(y_pred_xgb)\n",
    "\n",
    "# Convert predictions and true labels to binary\n",
    "y_test_binary = np.where(y_test >= PHQ_CUTOFF, 1, 0)\n",
    "y_pred_binary = np.where(y_pred_xgb >= PHQ_CUTOFF, 1, 0)\n",
    "\n",
    "# Calculate F1 score, recall, precision, AUROC and accuracy\n",
    "fpr, tpr, _ = roc_curve(y_test_binary, y_pred_xgb)\n",
    "roc_auc = auc(fpr, tpr)\n",
    "\n",
    "accuracy = accuracy_score(y_test_binary, y_pred_binary)\n",
    "\n",
    "print(f\"AUROC: {roc_auc:.6f}\")\n",
    "print(f\"Accuracy: {accuracy:.6f}\")\n",
    "\n",
    "# Plot AUROC\n",
    "plt.figure(figsize=(10, 8))\n",
    "plt.plot(fpr, tpr, label=f\"XGBoost (AUROC = {roc_auc:.6f})\")\n",
    "plt.plot([0, 1], [0, 1], color=\"gray\", linestyle=\"--\", label=\"Random Guess\")\n",
    "plt.xlabel(\"False Positive Rate\")\n",
    "plt.ylabel(\"True Positive Rate\")\n",
    "plt.title(\"AUROC Curve for XGBoost\")\n",
    "plt.legend(loc=\"lower right\")\n",
    "plt.grid(alpha=0.4)\n",
    "plt.show()\n",
    "\n",
    "# Print accuracy\n",
    "print(f\"Accuracy: {accuracy:.6f}\")"
   ]
  },
  {
   "cell_type": "code",
   "execution_count": null,
   "id": "68c39693",
   "metadata": {},
   "outputs": [],
   "source": [
    "#plotting the ROC curve\n",
    "from sklearn.metrics import roc_curve\n",
    "import matplotlib.pyplot as plt\n",
    "\n",
    "fpr, tpr, thresholds = roc_curve(y_test, y_pred_probs)\n",
    "plt.plot([0, 1], [0, 1], 'k--')\n",
    "plt.plot(fpr, tpr)\n",
    "plt.xlabel('False Positive Rate')\n",
    "plt.ylabel('True Positive Rate')\n",
    "plt.title('Logistic Regression ROC Curve')\n",
    "plt.show()\n",
    "\n",
    "#ROC AUC in scikit-learn\n",
    "from sklearn.metrics import roc_auc_score\n",
    "print(roc_auc_score(y_test, y_pred_probs)"
   ]
  },
  {
   "cell_type": "code",
   "execution_count": null,
   "id": "4a3efa6a",
   "metadata": {},
   "outputs": [],
   "source": [
    "from sklearn.metrics import (\n",
    "    accuracy_score,\n",
    "    precision_score,\n",
    "    recall_score,\n",
    "    f1_score,\n",
    "    roc_curve,\n",
    "    auc\n",
    ")\n",
    "\n",
    "# 假设你有：\n",
    "# y_test_binary：测试集真实标签（0/1）\n",
    "# y_pred_binary：模型预测的标签（0/1）\n",
    "# y_pred_xgb：模型预测的概率（用于画 ROC）\n",
    "\n",
    "# ROC Curve & AUROC\n",
    "fpr, tpr, _ = roc_curve(y_test_binary, y_pred_xgb)\n",
    "roc_auc = auc(fpr, tpr)\n",
    "\n",
    "# Accuracy\n",
    "accuracy = accuracy_score(y_test_binary, y_pred_binary)\n",
    "\n",
    "# Precision, Recall, F1\n",
    "precision = precision_score(y_test_binary, y_pred_binary)\n",
    "recall = recall_score(y_test_binary, y_pred_binary)\n",
    "f1 = f1_score(y_test_binary, y_pred_binary)\n",
    "\n",
    "# 输出结果\n",
    "print(f\"Accuracy : {accuracy:.6f}\")\n",
    "print(f\"Precision: {precision:.6f}\")\n",
    "print(f\"Recall   : {recall:.6f}\")\n",
    "print(f\"F1 Score : {f1:.6f}\")\n",
    "print(f\"AUROC    : {roc_auc:.6f}\")\n"
   ]
  }
 ],
 "metadata": {
  "kernelspec": {
   "display_name": "Python 3 (ipykernel)",
   "language": "python",
   "name": "python3"
  },
  "language_info": {
   "codemirror_mode": {
    "name": "ipython",
    "version": 3
   },
   "file_extension": ".py",
   "mimetype": "text/x-python",
   "name": "python",
   "nbconvert_exporter": "python",
   "pygments_lexer": "ipython3",
   "version": "3.11.6"
  }
 },
 "nbformat": 4,
 "nbformat_minor": 5
}
