{
 "cells": [
  {
   "cell_type": "markdown",
   "id": "79da8e98",
   "metadata": {},
   "source": [
    "# Data Extraction"
   ]
  },
  {
   "cell_type": "code",
   "execution_count": 1,
   "id": "4bbeb44f",
   "metadata": {},
   "outputs": [],
   "source": [
    "import pyreadstat\n",
    "import os\n",
    "import pandas as pd\n",
    "import openpyxl\n",
    "import numpy as np"
   ]
  },
  {
   "cell_type": "code",
   "execution_count": 2,
   "id": "7a967ca8",
   "metadata": {},
   "outputs": [],
   "source": [
    "columns_to_use = {\n",
    "    \"ALQ_L.XPT\": [\"SEQN\", \"ALQ121\"],\n",
    "    \"BMX_L.XPT\": [\"SEQN\", \"BMXWT\", \"BMXHT\", \"BMXBMI\"],\n",
    "    \"BPQ_L.XPT\": [\"SEQN\", \"BPQ020\"],\n",
    "    \"BPXO_L.XPT\": [\"SEQN\", \"BPXOSY1\",\"BPXODI1\",\"BPXOPLS1\"],\n",
    "    \"CBC_L.XPT\": [\"SEQN\",\"LBXHGB\"],\n",
    "    \"DEMO_L.XPT\": [\"SEQN\", \"RIAGENDR\",\"RIDAGEYR\",\"DMDBORN4\",\"DMDEDUC2\",\"DMDMARTZ\",\"RIDEXPRG\",\"DMDHHSIZ\"],\n",
    "    \"DIQ_L.XPT\": [\"SEQN\", \"DIQ010\"],\n",
    "    \"DPQ_L.XPT\": [\"SEQN\", \"DPQ010\",\"DPQ020\",\"DPQ030\",\"DPQ040\",\"DPQ050\",\"DPQ060\",\"DPQ070\",\"DPQ080\",\"DPQ090\"],\n",
    "    \"FNQ_L.XPT\": [\"SEQN\", \"FNQ410\",\"FNQ430\",\"FNQ440\",\"FNQ450\",\"FNQ460\",\"FNQ470\",\"FNQ490\"],\n",
    "    \"FOLATE_L.XPT\": [\"SEQN\", \"LBDRFOSI\"],\n",
    "    \"HDL_L.XPT\": [\"SEQN\", \"LBDHDDSI\"],\n",
    "    \"HIQ_L.XPT\": [\"SEQN\", \"HIQ011\"],\n",
    "    \"HOQ_L.XPT\": [\"SEQN\", \"HOD051\"],\n",
    "    \"HSCRP_L.XPT\": [\"SEQN\", \"LBXHSCRP\"],\n",
    "    \"HUQ_L.XPT\": [\"SEQN\", \"HUQ010\",\"HUQ030\",\"HUQ090\"],\n",
    "    \"INQ_L.XPT\": [\"SEQN\", \"INDFMMPI\",\"INQ300\"],\n",
    "    \"MCQ_L.XPT\": [\"SEQN\",\"MCQ160B\",\"MCQ160E\",\"MCQ160F\",\"MCQ160P\",\"MCQ220\"],\n",
    "    \"OCQ_L.XPT\": [\"SEQN\", \"OCD150\",\"OCQ180\",\"OCQ215\"],\n",
    "    \"OHQ_L.XPT\": [\"SEQN\", \"OHQ845\",\"OHQ680\"],\n",
    "    \"PAQ_L.XPT\": [\"SEQN\", \"PAD790Q\",\"PAD790U\",\"PAD680\"],\n",
    "    \"PBCD_L.XPT\": [\"SEQN\", \"LBXBPB\",\"LBXTHG\"],\n",
    "    \"SLQ_L.XPT\": [\"SEQN\", \"SLD012\",\"SLD013\"],\n",
    "    \"VID_L.XPT\": [\"SEQN\", \"LBXVD2MS\"],\n",
    "    \"WHQ_L.XPT\": [\"SEQN\", \"WHQ070\"],\n",
    "}"
   ]
  },
  {
   "cell_type": "code",
   "execution_count": 4,
   "id": "d39abc5d",
   "metadata": {},
   "outputs": [],
   "source": [
    "all_dfs = []\n",
    "\n",
    "for filename, selected_columns in columns_to_use.items():\n",
    "    file_path = os.path.join(\"Datasets\", filename)\n",
    "    df, meta = pyreadstat.read_xport(file_path, encoding='cp1252')\n",
    "    df = df[selected_columns]\n",
    "    all_dfs.append(df)\n",
    "    \n",
    "merged_df = all_dfs[0]\n",
    "for df in all_dfs[1:]:\n",
    "    merged_df = pd.merge(merged_df, df, on=\"SEQN\", how=\"outer\")\n",
    "    \n",
    "dpq_cols = [\"DPQ010\", \"DPQ020\", \"DPQ030\", \"DPQ040\", \"DPQ050\", \"DPQ060\", \"DPQ070\", \"DPQ080\", \"DPQ090\"]\n",
    "merged_df = merged_df.dropna(subset=dpq_cols, how=\"all\")\n",
    "\n",
    "merged_df.to_csv(\"merged_nhanes.csv\", index=False)"
   ]
  },
  {
   "cell_type": "code",
   "execution_count": null,
   "id": "0ede7fb8",
   "metadata": {},
   "outputs": [],
   "source": []
  }
 ],
 "metadata": {
  "kernelspec": {
   "display_name": "Python 3 (ipykernel)",
   "language": "python",
   "name": "python3"
  },
  "language_info": {
   "codemirror_mode": {
    "name": "ipython",
    "version": 3
   },
   "file_extension": ".py",
   "mimetype": "text/x-python",
   "name": "python",
   "nbconvert_exporter": "python",
   "pygments_lexer": "ipython3",
   "version": "3.11.6"
  }
 },
 "nbformat": 4,
 "nbformat_minor": 5
}
