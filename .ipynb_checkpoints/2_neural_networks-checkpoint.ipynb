{
 "cells": [
  {
   "cell_type": "code",
   "execution_count": 2,
   "id": "6e55a9a2",
   "metadata": {},
   "outputs": [],
   "source": [
    "import pandas as pd\n",
    "from sklearn.model_selection import train_test_split\n",
    "import torch\n",
    "from torch.utils.data import DataLoader, Dataset, random_split, TensorDataset\n",
    "import torch.nn as nn\n",
    "from sklearn.metrics import mean_squared_error, mean_absolute_error, accuracy_score\n",
    "from sklearn.preprocessing import StandardScaler\n",
    "from sklearn.utils.class_weight import compute_class_weight\n",
    "import itertools\n"
   ]
  },
  {
   "cell_type": "code",
   "execution_count": 3,
   "id": "54cc3dde",
   "metadata": {},
   "outputs": [],
   "source": [
    "X_train = pd.read_csv(\"Training_Validation_Test_Datasets/task2_input_train.csv\", index_col=0)\n",
    "X_validate = pd.read_csv(\"Training_Validation_Test_Datasets/task2_input_validate.csv\", index_col=0)\n",
    "X_test = pd.read_csv(\"Training_Validation_Test_Datasets/task2_input_test.csv\", index_col=0)\n",
    "\n",
    "y_train = pd.read_csv(\"Training_Validation_Test_Datasets/task2_output_train.csv\")[\"phq_sum\"]\n",
    "y_validate = pd.read_csv(\"Training_Validation_Test_Datasets/task2_output_validate.csv\")[\"phq_sum\"]\n",
    "y_test = pd.read_csv(\"Training_Validation_Test_Datasets/task2_output_test.csv\")[\"phq_sum\"]"
   ]
  },
  {
   "cell_type": "code",
   "execution_count": null,
   "id": "3026adfa",
   "metadata": {},
   "outputs": [],
   "source": [
    "# Initialize the scaler\n",
    "scaler = StandardScaler()\n",
    "\n",
    "# Fit the scaler on data and transform\n",
    "X_train_scaled = scaler.fit_transform(X_train)\n",
    "X_validate_scaled = scaler.transform(X_validate)\n",
    "X_test_scaled = scaler.transform(X_test)"
   ]
  },
  {
   "cell_type": "code",
   "execution_count": null,
   "id": "9a51aafd",
   "metadata": {},
   "outputs": [],
   "source": [
    "# Convert inputs to tensors\n",
    "X_train_tensor = torch.tensor(X_train_scaled, dtype=torch.float32)\n",
    "X_validate_tensor = torch.tensor(X_validate_scaled, dtype=torch.float32)\n",
    "X_test_tensor = torch.tensor(X_test_scaled, dtype=torch.float32)\n",
    "\n",
    "# Convert outputs (labels) to tensors\n",
    "y_train_tensor = torch.tensor(y_train.values, dtype=torch.float32).unsqueeze(1)\n",
    "y_validate_tensor = torch.tensor(y_validate.values, dtype=torch.float32).unsqueeze(1)\n",
    "y_test_tensor = torch.tensor(y_test.values, dtype=torch.float32).unsqueeze(1)"
   ]
  },
  {
   "cell_type": "code",
   "execution_count": null,
   "id": "4da72961",
   "metadata": {},
   "outputs": [],
   "source": [
    "# Create TensorDatasets\n",
    "train_dataset = TensorDataset(X_train_tensor, y_train_tensor)\n",
    "validate_dataset = TensorDataset(X_validate_tensor, y_validate_tensor)\n",
    "test_dataset = TensorDataset(X_test_tensor, y_test_tensor)"
   ]
  },
  {
   "cell_type": "code",
   "execution_count": null,
   "id": "57698ae7",
   "metadata": {},
   "outputs": [],
   "source": [
    "# Create DataLoaders\n",
    "train_loader = DataLoader(train_dataset, batch_size=32, shuffle=True)\n",
    "validate_loader = DataLoader(validate_dataset, batch_size=32, shuffle=False)\n",
    "test_loader = DataLoader(test_dataset, batch_size=32, shuffle=False)"
   ]
  },
  {
   "cell_type": "code",
   "execution_count": null,
   "id": "9e9096bf",
   "metadata": {},
   "outputs": [],
   "source": [
    "class PHQModel(nn.Module):\n",
    "    def __init__(self, input_size, hidden_num, hidden_size):\n",
    "        super(PHQModel, self).__init__()\n",
    "        \n",
    "        self.hidden_layers = nn.ModuleList()\n",
    "        if hidden_num > 0:\n",
    "            self.hidden_layers.append(nn.Linear(input_size, hidden_size)) # first layer\n",
    "            \n",
    "            for _ in range(hidden_num - 1):\n",
    "                self.hidden_layers.append(nn.Linear(hidden_size, hidden_size))\n",
    "                \n",
    "            reduced_size = hidden_size // 2\n",
    "            self.hidden_layers.append(nn.Linear(hidden_size, reduced_size))\n",
    "            self.output_layer = nn.Linear(reduced_size, 1)\n",
    "        else:\n",
    "            # If no hidden layers, output layer connects directly to input\n",
    "            self.output_layer = nn.Linear(input_size, 1)\n",
    "        \n",
    "        # Define the activation function\n",
    "        self.relu = nn.ReLU()\n",
    "        # Add dropout\n",
    "        self.dropout = nn.Dropout(0.2)\n",
    "            \n",
    "    def forward(self, x):\n",
    "        if len(self.hidden_layers) == 0:\n",
    "            # No hidden layers, pass directly to output layer\n",
    "            x = self.output_layer(x)\n",
    "        else:\n",
    "            # Pass through each hidden layer with ReLU activation\n",
    "            for layer in self.hidden_layers:\n",
    "                x = self.relu(layer(x))\n",
    "                # Apply dropout\n",
    "                x = self.dropout(x)\n",
    "            # Then pass through the output layer\n",
    "            x = self.output_layer(x)\n",
    "        return x"
   ]
  },
  {
   "cell_type": "code",
   "execution_count": null,
   "id": "f7b8e824",
   "metadata": {},
   "outputs": [],
   "source": [
    "def network_execution(hidden_num, hidden_size, X_train, train_loader, validate_loader, test_loader):\n",
    "    # Initialize the model\n",
    "    input_size = X_train.shape[1]  # Number of features\n",
    "    model = PHQModel(input_size, hidden_num, hidden_size)\n",
    "\n",
    "    # Define the loss function and optimizer\n",
    "    criterion = nn.MSELoss()\n",
    "    optimizer = torch.optim.Adam(model.parameters(), lr=0.001)\n",
    "\n",
    "    # Training with Learning Rate Scheduler\n",
    "    scheduler = torch.optim.lr_scheduler.ReduceLROnPlateau(optimizer, mode='min', patience=3, factor=0.1)\n",
    "    num_epochs = 100\n",
    "\n",
    "    for epoch in range(num_epochs):\n",
    "        # Training phase\n",
    "        model.train()  # Set the model to training mode\n",
    "        running_loss = 0.0\n",
    "\n",
    "        for inputs, labels in train_loader:\n",
    "            optimizer.zero_grad()  \n",
    "            outputs = model(inputs)  \n",
    "            loss = criterion(outputs, labels)  \n",
    "            loss.backward()  \n",
    "            optimizer.step() \n",
    "            running_loss += loss.item()\n",
    "\n",
    "        train_loss = running_loss / len(train_loader)  # Average training loss\n",
    "\n",
    "        # Validation phase\n",
    "        model.eval()  # Set the model to evaluation mode\n",
    "        val_loss = 0.0\n",
    "        with torch.no_grad():\n",
    "            for inputs, labels in validate_loader:  # Use validate_loader instead of test_loader\n",
    "                outputs = model(inputs)\n",
    "                val_loss += criterion(outputs, labels).item()\n",
    "\n",
    "        val_loss = val_loss / len(validate_loader)  # Average validation loss\n",
    "\n",
    "        lr = scheduler.get_last_lr()[0]\n",
    "        # Step the learning rate scheduler\n",
    "        scheduler.step(val_loss)\n",
    "\n",
    "        # Print progress every epoch or at specific intervals\n",
    "        # if epoch == 99:\n",
    "        #     print(f\"Epoch {epoch+1}/{num_epochs}: Train Loss = {train_loss:.4f}, Val Loss = {val_loss:.4f}\")\n",
    "\n",
    "    # Evaluation\n",
    "    model.eval()\n",
    "    all_preds = []\n",
    "    all_labels = []\n",
    "\n",
    "    with torch.no_grad():\n",
    "        for inputs, labels in test_loader:\n",
    "            outputs = model(inputs)\n",
    "            all_preds.extend(outputs.numpy().flatten())\n",
    "            all_labels.extend(labels.numpy().flatten())\n",
    "\n",
    "    mse = mean_squared_error(all_labels, all_preds)\n",
    "    mae = mean_absolute_error(all_labels, all_preds)\n",
    "\n",
    "    # print(f\"Test MSE: {mse}, Test MAE: {mae}\")\n",
    "    return mse, all_preds"
   ]
  },
  {
   "cell_type": "code",
   "execution_count": 5,
   "id": "4f5b89aa",
   "metadata": {},
   "outputs": [
    {
     "name": "stdout",
     "output_type": "stream",
     "text": [
      "Training model: Hidden Layers = 1, Hidden Size = 16\n"
     ]
    },
    {
     "ename": "NameError",
     "evalue": "name 'network_execution' is not defined",
     "output_type": "error",
     "traceback": [
      "\u001b[0;31m---------------------------------------------------------------------------\u001b[0m",
      "\u001b[0;31mNameError\u001b[0m                                 Traceback (most recent call last)",
      "Cell \u001b[0;32mIn[5], line 12\u001b[0m\n\u001b[1;32m      9\u001b[0m \u001b[38;5;28;01mfor\u001b[39;00m hidden_num, hidden_size \u001b[38;5;129;01min\u001b[39;00m combinations:\n\u001b[1;32m     10\u001b[0m     \u001b[38;5;28mprint\u001b[39m(\u001b[38;5;124mf\u001b[39m\u001b[38;5;124m\"\u001b[39m\u001b[38;5;124mTraining model: Hidden Layers = \u001b[39m\u001b[38;5;132;01m{\u001b[39;00mhidden_num\u001b[38;5;132;01m}\u001b[39;00m\u001b[38;5;124m, Hidden Size = \u001b[39m\u001b[38;5;132;01m{\u001b[39;00mhidden_size\u001b[38;5;132;01m}\u001b[39;00m\u001b[38;5;124m\"\u001b[39m)\n\u001b[0;32m---> 12\u001b[0m     mse, _ \u001b[38;5;241m=\u001b[39m \u001b[43mnetwork_execution\u001b[49m(hidden_num, hidden_size, X_train, train_loader, validate_loader) \n\u001b[1;32m     13\u001b[0m     mse_results\u001b[38;5;241m.\u001b[39mappend((mse, (hidden_num, hidden_size)))\n\u001b[1;32m     15\u001b[0m best_result \u001b[38;5;241m=\u001b[39m \u001b[38;5;28mmin\u001b[39m(mse_results, key\u001b[38;5;241m=\u001b[39m\u001b[38;5;28;01mlambda\u001b[39;00m x: x[\u001b[38;5;241m0\u001b[39m])\n",
      "\u001b[0;31mNameError\u001b[0m: name 'network_execution' is not defined"
     ]
    }
   ],
   "source": [
    "# Hyperparameter Tuning\n",
    "\n",
    "hidden_numbers = [1, 2, 3, 4, 5, 6]\n",
    "hidden_sizes = [16, 32, 64, 128, 256, 512]\n",
    "combinations = list(itertools.product(hidden_numbers, hidden_sizes))\n",
    "\n",
    "mse_results = []\n",
    "\n",
    "for hidden_num, hidden_size in combinations:\n",
    "    print(f\"Training model: Hidden Layers = {hidden_num}, Hidden Size = {hidden_size}\")\n",
    "    \n",
    "    mse, _ = network_execution(hidden_num, hidden_size, X_train, train_loader, validate_loader) \n",
    "    mse_results.append((mse, (hidden_num, hidden_size)))\n",
    "\n",
    "best_result = min(mse_results, key=lambda x: x[0])\n",
    "worst_result = max(mse_results, key=lambda x: x[0])\n",
    "\n",
    "print(\"\\n✅ Hyperparameter Tuning Results:\")\n",
    "print(f\"Best Parameters: Hidden Layers = {best_result[1][0]}, Hidden Size = {best_result[1][1]}\")\n",
    "print(f\"Best Validation MSE: {best_result[0]:.4f}\")\n",
    "\n",
    "print(f\"Worst Parameters: Hidden Layers = {worst_result[1][0]}, Hidden Size = {worst_result[1][1]}\")\n",
    "print(f\"Worst Validation MSE: {worst_result[0]:.4f}\")\n"
   ]
  },
  {
   "cell_type": "code",
   "execution_count": null,
   "id": "aca6167e",
   "metadata": {},
   "outputs": [],
   "source": []
  }
 ],
 "metadata": {
  "kernelspec": {
   "display_name": "Python 3 (ipykernel)",
   "language": "python",
   "name": "python3"
  },
  "language_info": {
   "codemirror_mode": {
    "name": "ipython",
    "version": 3
   },
   "file_extension": ".py",
   "mimetype": "text/x-python",
   "name": "python",
   "nbconvert_exporter": "python",
   "pygments_lexer": "ipython3",
   "version": "3.11.6"
  }
 },
 "nbformat": 4,
 "nbformat_minor": 5
}
